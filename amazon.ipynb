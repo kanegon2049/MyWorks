{
 "cells": [
  {
   "cell_type": "code",
   "execution_count": null,
   "id": "d367c4f6-0a81-450b-9487-a8acb2f57c2e",
   "metadata": {},
   "outputs": [],
   "source": [
    "import numpy as np\n",
    "import pandas as pd\n",
    "import selenium\n",
    "import openpyxl as open\n",
    "import re\n",
    "import time\n",
    "from bs4 import BeautifulSoup\n",
    "from selenium import webdriver\n",
    "from selenium.webdriver.chrome import service\n",
    "from selenium.webdriver.common.by import By\n",
    "from selenium.webdriver.common.keys import Keys"
   ]
  },
  {
   "cell_type": "code",
   "execution_count": 2,
   "id": "2e552b8b-9f0f-4a50-8b6e-d5e343c1fb0f",
   "metadata": {},
   "outputs": [],
   "source": [
    "print(\"検索したいワード\")\n",
    "keyword = str(input())\n",
    "CHROMEDRIVER = \"C:\\\\Users\\\\kaing\\\\chromedriver.exe\"\n",
    "chrome_service = service.Service(executable_path=CHROMEDRIVER)\n",
    "driver = webdriver.Chrome(service=chrome_service)\n",
    "driver.get(\"https://www.amazon.co.jp/\")\n",
    "elem = driver.find_element(By.XPATH, '//*[@id=\"twotabsearchtextbox\"]')\n",
    "elem.send_keys(keyword)\n",
    "elem = driver.find_element(By.XPATH, '//*[@id=\"nav-search-submit-button\"]')\n",
    "elem.send_keys(Keys.ENTER)\n",
    "\n",
    "cur_url = driver.current_url\n",
    "print(elem)"
   ]
  },
  {
   "cell_type": "code",
   "execution_count": null,
   "id": "490c0831-ee5a-4e1f-9056-432e7233528c",
   "metadata": {},
   "outputs": [],
   "source": []
  }
 ],
 "metadata": {
  "kernelspec": {
   "display_name": "Python 3",
   "language": "python",
   "name": "python3"
  },
  "language_info": {
   "codemirror_mode": {
    "name": "ipython",
    "version": 3
   },
   "file_extension": ".py",
   "mimetype": "text/x-python",
   "name": "python",
   "nbconvert_exporter": "python",
   "pygments_lexer": "ipython3",
   "version": "3.10.4 (tags/v3.10.4:9d38120, Mar 23 2022, 23:13:41) [MSC v.1929 64 bit (AMD64)]"
  },
  "vscode": {
   "interpreter": {
    "hash": "0ca7edca3296dcbbcabb9c55d3d3d5dcc6af479a3ab2e699122174ae4b2199fa"
   }
  }
 },
 "nbformat": 4,
 "nbformat_minor": 5
}
